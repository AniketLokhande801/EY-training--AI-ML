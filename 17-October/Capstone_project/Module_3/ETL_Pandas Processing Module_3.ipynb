{
 "cells": [
  {
   "cell_type": "code",
   "id": "initial_id",
   "metadata": {
    "collapsed": true,
    "ExecuteTime": {
     "end_time": "2025-10-17T05:59:04.114866Z",
     "start_time": "2025-10-17T05:59:03.032619Z"
    }
   },
   "source": [
    "import pandas as pd\n",
    "import numpy as np"
   ],
   "outputs": [],
   "execution_count": 1
  },
  {
   "metadata": {
    "ExecuteTime": {
     "end_time": "2025-10-17T06:00:18.671448Z",
     "start_time": "2025-10-17T06:00:18.589073Z"
    }
   },
   "cell_type": "code",
   "source": "df= pd.read_csv(\"marks.csv\")",
   "id": "6b612c699c626ad4",
   "outputs": [],
   "execution_count": 2
  },
  {
   "metadata": {
    "ExecuteTime": {
     "end_time": "2025-10-17T06:00:26.539253Z",
     "start_time": "2025-10-17T06:00:26.481848Z"
    }
   },
   "cell_type": "code",
   "source": "df.head()",
   "id": "93a43cb6868cceb",
   "outputs": [
    {
     "data": {
      "text/plain": [
       "   StudentID  Maths  Python  ML\n",
       "0        101     78      85  90\n",
       "1        102     65      70  60\n",
       "2        103     88      92  95\n",
       "3        104     50      60  45\n",
       "4        105     80      88  84"
      ],
      "text/html": [
       "<div>\n",
       "<style scoped>\n",
       "    .dataframe tbody tr th:only-of-type {\n",
       "        vertical-align: middle;\n",
       "    }\n",
       "\n",
       "    .dataframe tbody tr th {\n",
       "        vertical-align: top;\n",
       "    }\n",
       "\n",
       "    .dataframe thead th {\n",
       "        text-align: right;\n",
       "    }\n",
       "</style>\n",
       "<table border=\"1\" class=\"dataframe\">\n",
       "  <thead>\n",
       "    <tr style=\"text-align: right;\">\n",
       "      <th></th>\n",
       "      <th>StudentID</th>\n",
       "      <th>Maths</th>\n",
       "      <th>Python</th>\n",
       "      <th>ML</th>\n",
       "    </tr>\n",
       "  </thead>\n",
       "  <tbody>\n",
       "    <tr>\n",
       "      <th>0</th>\n",
       "      <td>101</td>\n",
       "      <td>78</td>\n",
       "      <td>85</td>\n",
       "      <td>90</td>\n",
       "    </tr>\n",
       "    <tr>\n",
       "      <th>1</th>\n",
       "      <td>102</td>\n",
       "      <td>65</td>\n",
       "      <td>70</td>\n",
       "      <td>60</td>\n",
       "    </tr>\n",
       "    <tr>\n",
       "      <th>2</th>\n",
       "      <td>103</td>\n",
       "      <td>88</td>\n",
       "      <td>92</td>\n",
       "      <td>95</td>\n",
       "    </tr>\n",
       "    <tr>\n",
       "      <th>3</th>\n",
       "      <td>104</td>\n",
       "      <td>50</td>\n",
       "      <td>60</td>\n",
       "      <td>45</td>\n",
       "    </tr>\n",
       "    <tr>\n",
       "      <th>4</th>\n",
       "      <td>105</td>\n",
       "      <td>80</td>\n",
       "      <td>88</td>\n",
       "      <td>84</td>\n",
       "    </tr>\n",
       "  </tbody>\n",
       "</table>\n",
       "</div>"
      ]
     },
     "execution_count": 3,
     "metadata": {},
     "output_type": "execute_result"
    }
   ],
   "execution_count": 3
  },
  {
   "metadata": {
    "ExecuteTime": {
     "end_time": "2025-10-17T06:02:04.654924Z",
     "start_time": "2025-10-17T06:02:04.644998Z"
    }
   },
   "cell_type": "code",
   "source": "df[\"TotalMarks\"]=df[\"Maths\"]+df[\"Python\"]+df[\"ML\"]",
   "id": "ae203f3f860754c",
   "outputs": [],
   "execution_count": 4
  },
  {
   "metadata": {
    "ExecuteTime": {
     "end_time": "2025-10-17T06:02:19.413363Z",
     "start_time": "2025-10-17T06:02:19.325362Z"
    }
   },
   "cell_type": "code",
   "source": "df.head()",
   "id": "a67e4890437ca4b4",
   "outputs": [
    {
     "data": {
      "text/plain": [
       "   StudentID  Maths  Python  ML  TotalMarks\n",
       "0        101     78      85  90         253\n",
       "1        102     65      70  60         195\n",
       "2        103     88      92  95         275\n",
       "3        104     50      60  45         155\n",
       "4        105     80      88  84         252"
      ],
      "text/html": [
       "<div>\n",
       "<style scoped>\n",
       "    .dataframe tbody tr th:only-of-type {\n",
       "        vertical-align: middle;\n",
       "    }\n",
       "\n",
       "    .dataframe tbody tr th {\n",
       "        vertical-align: top;\n",
       "    }\n",
       "\n",
       "    .dataframe thead th {\n",
       "        text-align: right;\n",
       "    }\n",
       "</style>\n",
       "<table border=\"1\" class=\"dataframe\">\n",
       "  <thead>\n",
       "    <tr style=\"text-align: right;\">\n",
       "      <th></th>\n",
       "      <th>StudentID</th>\n",
       "      <th>Maths</th>\n",
       "      <th>Python</th>\n",
       "      <th>ML</th>\n",
       "      <th>TotalMarks</th>\n",
       "    </tr>\n",
       "  </thead>\n",
       "  <tbody>\n",
       "    <tr>\n",
       "      <th>0</th>\n",
       "      <td>101</td>\n",
       "      <td>78</td>\n",
       "      <td>85</td>\n",
       "      <td>90</td>\n",
       "      <td>253</td>\n",
       "    </tr>\n",
       "    <tr>\n",
       "      <th>1</th>\n",
       "      <td>102</td>\n",
       "      <td>65</td>\n",
       "      <td>70</td>\n",
       "      <td>60</td>\n",
       "      <td>195</td>\n",
       "    </tr>\n",
       "    <tr>\n",
       "      <th>2</th>\n",
       "      <td>103</td>\n",
       "      <td>88</td>\n",
       "      <td>92</td>\n",
       "      <td>95</td>\n",
       "      <td>275</td>\n",
       "    </tr>\n",
       "    <tr>\n",
       "      <th>3</th>\n",
       "      <td>104</td>\n",
       "      <td>50</td>\n",
       "      <td>60</td>\n",
       "      <td>45</td>\n",
       "      <td>155</td>\n",
       "    </tr>\n",
       "    <tr>\n",
       "      <th>4</th>\n",
       "      <td>105</td>\n",
       "      <td>80</td>\n",
       "      <td>88</td>\n",
       "      <td>84</td>\n",
       "      <td>252</td>\n",
       "    </tr>\n",
       "  </tbody>\n",
       "</table>\n",
       "</div>"
      ]
     },
     "execution_count": 5,
     "metadata": {},
     "output_type": "execute_result"
    }
   ],
   "execution_count": 5
  },
  {
   "metadata": {
    "ExecuteTime": {
     "end_time": "2025-10-17T06:05:22.166728Z",
     "start_time": "2025-10-17T06:05:22.114936Z"
    }
   },
   "cell_type": "code",
   "source": "df[\"Percentage\"]=round((df[\"TotalMarks\"]/300)*100,2)",
   "id": "19a7a623fba44807",
   "outputs": [],
   "execution_count": 10
  },
  {
   "metadata": {
    "ExecuteTime": {
     "end_time": "2025-10-17T06:05:24.089807Z",
     "start_time": "2025-10-17T06:05:24.042309Z"
    }
   },
   "cell_type": "code",
   "source": "df.head()",
   "id": "d94062bae46076bf",
   "outputs": [
    {
     "data": {
      "text/plain": [
       "   StudentID  Maths  Python  ML  TotalMarks  Percentage\n",
       "0        101     78      85  90         253       84.33\n",
       "1        102     65      70  60         195       65.00\n",
       "2        103     88      92  95         275       91.67\n",
       "3        104     50      60  45         155       51.67\n",
       "4        105     80      88  84         252       84.00"
      ],
      "text/html": [
       "<div>\n",
       "<style scoped>\n",
       "    .dataframe tbody tr th:only-of-type {\n",
       "        vertical-align: middle;\n",
       "    }\n",
       "\n",
       "    .dataframe tbody tr th {\n",
       "        vertical-align: top;\n",
       "    }\n",
       "\n",
       "    .dataframe thead th {\n",
       "        text-align: right;\n",
       "    }\n",
       "</style>\n",
       "<table border=\"1\" class=\"dataframe\">\n",
       "  <thead>\n",
       "    <tr style=\"text-align: right;\">\n",
       "      <th></th>\n",
       "      <th>StudentID</th>\n",
       "      <th>Maths</th>\n",
       "      <th>Python</th>\n",
       "      <th>ML</th>\n",
       "      <th>TotalMarks</th>\n",
       "      <th>Percentage</th>\n",
       "    </tr>\n",
       "  </thead>\n",
       "  <tbody>\n",
       "    <tr>\n",
       "      <th>0</th>\n",
       "      <td>101</td>\n",
       "      <td>78</td>\n",
       "      <td>85</td>\n",
       "      <td>90</td>\n",
       "      <td>253</td>\n",
       "      <td>84.33</td>\n",
       "    </tr>\n",
       "    <tr>\n",
       "      <th>1</th>\n",
       "      <td>102</td>\n",
       "      <td>65</td>\n",
       "      <td>70</td>\n",
       "      <td>60</td>\n",
       "      <td>195</td>\n",
       "      <td>65.00</td>\n",
       "    </tr>\n",
       "    <tr>\n",
       "      <th>2</th>\n",
       "      <td>103</td>\n",
       "      <td>88</td>\n",
       "      <td>92</td>\n",
       "      <td>95</td>\n",
       "      <td>275</td>\n",
       "      <td>91.67</td>\n",
       "    </tr>\n",
       "    <tr>\n",
       "      <th>3</th>\n",
       "      <td>104</td>\n",
       "      <td>50</td>\n",
       "      <td>60</td>\n",
       "      <td>45</td>\n",
       "      <td>155</td>\n",
       "      <td>51.67</td>\n",
       "    </tr>\n",
       "    <tr>\n",
       "      <th>4</th>\n",
       "      <td>105</td>\n",
       "      <td>80</td>\n",
       "      <td>88</td>\n",
       "      <td>84</td>\n",
       "      <td>252</td>\n",
       "      <td>84.00</td>\n",
       "    </tr>\n",
       "  </tbody>\n",
       "</table>\n",
       "</div>"
      ]
     },
     "execution_count": 11,
     "metadata": {},
     "output_type": "execute_result"
    }
   ],
   "execution_count": 11
  },
  {
   "metadata": {
    "ExecuteTime": {
     "end_time": "2025-10-17T06:08:11.044301Z",
     "start_time": "2025-10-17T06:08:11.032481Z"
    }
   },
   "cell_type": "code",
   "source": "df[\"Result\"] = df[\"Percentage\"].apply(lambda x: \"Pass\" if x >= 50 else \"Fail\")\n",
   "id": "31b1346f5a1867a6",
   "outputs": [],
   "execution_count": 12
  },
  {
   "metadata": {
    "ExecuteTime": {
     "end_time": "2025-10-17T06:08:17.628555Z",
     "start_time": "2025-10-17T06:08:17.602009Z"
    }
   },
   "cell_type": "code",
   "source": "df.head()",
   "id": "d9797a0151a7c9f7",
   "outputs": [
    {
     "data": {
      "text/plain": [
       "   StudentID  Maths  Python  ML  TotalMarks  Percentage Result\n",
       "0        101     78      85  90         253       84.33   Pass\n",
       "1        102     65      70  60         195       65.00   Pass\n",
       "2        103     88      92  95         275       91.67   Pass\n",
       "3        104     50      60  45         155       51.67   Pass\n",
       "4        105     80      88  84         252       84.00   Pass"
      ],
      "text/html": [
       "<div>\n",
       "<style scoped>\n",
       "    .dataframe tbody tr th:only-of-type {\n",
       "        vertical-align: middle;\n",
       "    }\n",
       "\n",
       "    .dataframe tbody tr th {\n",
       "        vertical-align: top;\n",
       "    }\n",
       "\n",
       "    .dataframe thead th {\n",
       "        text-align: right;\n",
       "    }\n",
       "</style>\n",
       "<table border=\"1\" class=\"dataframe\">\n",
       "  <thead>\n",
       "    <tr style=\"text-align: right;\">\n",
       "      <th></th>\n",
       "      <th>StudentID</th>\n",
       "      <th>Maths</th>\n",
       "      <th>Python</th>\n",
       "      <th>ML</th>\n",
       "      <th>TotalMarks</th>\n",
       "      <th>Percentage</th>\n",
       "      <th>Result</th>\n",
       "    </tr>\n",
       "  </thead>\n",
       "  <tbody>\n",
       "    <tr>\n",
       "      <th>0</th>\n",
       "      <td>101</td>\n",
       "      <td>78</td>\n",
       "      <td>85</td>\n",
       "      <td>90</td>\n",
       "      <td>253</td>\n",
       "      <td>84.33</td>\n",
       "      <td>Pass</td>\n",
       "    </tr>\n",
       "    <tr>\n",
       "      <th>1</th>\n",
       "      <td>102</td>\n",
       "      <td>65</td>\n",
       "      <td>70</td>\n",
       "      <td>60</td>\n",
       "      <td>195</td>\n",
       "      <td>65.00</td>\n",
       "      <td>Pass</td>\n",
       "    </tr>\n",
       "    <tr>\n",
       "      <th>2</th>\n",
       "      <td>103</td>\n",
       "      <td>88</td>\n",
       "      <td>92</td>\n",
       "      <td>95</td>\n",
       "      <td>275</td>\n",
       "      <td>91.67</td>\n",
       "      <td>Pass</td>\n",
       "    </tr>\n",
       "    <tr>\n",
       "      <th>3</th>\n",
       "      <td>104</td>\n",
       "      <td>50</td>\n",
       "      <td>60</td>\n",
       "      <td>45</td>\n",
       "      <td>155</td>\n",
       "      <td>51.67</td>\n",
       "      <td>Pass</td>\n",
       "    </tr>\n",
       "    <tr>\n",
       "      <th>4</th>\n",
       "      <td>105</td>\n",
       "      <td>80</td>\n",
       "      <td>88</td>\n",
       "      <td>84</td>\n",
       "      <td>252</td>\n",
       "      <td>84.00</td>\n",
       "      <td>Pass</td>\n",
       "    </tr>\n",
       "  </tbody>\n",
       "</table>\n",
       "</div>"
      ]
     },
     "execution_count": 13,
     "metadata": {},
     "output_type": "execute_result"
    }
   ],
   "execution_count": 13
  },
  {
   "metadata": {
    "ExecuteTime": {
     "end_time": "2025-10-17T06:10:03.307396Z",
     "start_time": "2025-10-17T06:10:03.297366Z"
    }
   },
   "cell_type": "code",
   "source": "df.to_csv(\"student_results.csv\", index=False)",
   "id": "401e0baa95cc764a",
   "outputs": [],
   "execution_count": 15
  },
  {
   "metadata": {},
   "cell_type": "code",
   "outputs": [],
   "execution_count": null,
   "source": "",
   "id": "bb64a4b46b2162dd"
  }
 ],
 "metadata": {
  "kernelspec": {
   "display_name": "Python 3",
   "language": "python",
   "name": "python3"
  },
  "language_info": {
   "codemirror_mode": {
    "name": "ipython",
    "version": 2
   },
   "file_extension": ".py",
   "mimetype": "text/x-python",
   "name": "python",
   "nbconvert_exporter": "python",
   "pygments_lexer": "ipython2",
   "version": "2.7.6"
  }
 },
 "nbformat": 4,
 "nbformat_minor": 5
}
