{
 "cells": [
  {
   "cell_type": "code",
   "execution_count": 6,
   "id": "7bf9a095-1dc0-431f-a745-ba87349e6e22",
   "metadata": {},
   "outputs": [],
   "source": [
    "import pandas as pd\n",
    "import numpy as np"
   ]
  },
  {
   "cell_type": "code",
   "execution_count": 2,
   "id": "b33b6f0c-c8bf-4b0f-a60d-d62c440a3db6",
   "metadata": {},
   "outputs": [],
   "source": [
    "data = {\n",
    "    \"Name\": [\"Rahul\", \"Priya\", \"Arjun\", \"Neha\", \"Vikram\"],\n",
    "    \"Age\": [21, 22, 20, 23, 21],\n",
    "    \"Course\": [\"AI\", \"ML\", \"Data Science\", \"AI\", \"ML\"],\n",
    "    \"Marks\": [85, 90, 78, 88, 95]\n",
    "}\n",
    "\n",
    "df=pd.DataFrame(data)\n"
   ]
  },
  {
   "cell_type": "code",
   "execution_count": 3,
   "id": "ec7ef191-78c1-41d4-a7ad-8879bda8dee8",
   "metadata": {},
   "outputs": [
    {
     "name": "stdout",
     "output_type": "stream",
     "text": [
      "     Name  Age        Course  Marks\n",
      "0   Rahul   21            AI     85\n",
      "1   Priya   22            ML     90\n",
      "2   Arjun   20  Data Science     78\n",
      "3    Neha   23            AI     88\n",
      "4  Vikram   21            ML     95\n",
      "0     Rahul\n",
      "1     Priya\n",
      "2     Arjun\n",
      "3      Neha\n",
      "4    Vikram\n",
      "Name: Name, dtype: object\n",
      "Name             Arjun\n",
      "Age                 20\n",
      "Course    Data Science\n",
      "Marks               78\n",
      "Name: 2, dtype: object\n",
      "78\n"
     ]
    }
   ],
   "source": [
    "print(df)\n",
    "print(df[\"Name\"])\n",
    "print(df.iloc[2])\n",
    "print(df.loc[2,\"Marks\"])"
   ]
  },
  {
   "cell_type": "code",
   "execution_count": 4,
   "id": "244f2f04-c565-4b11-bb1d-daec836a49ac",
   "metadata": {},
   "outputs": [
    {
     "name": "stdout",
     "output_type": "stream",
     "text": [
      "     Name  Age Course  Marks\n",
      "1   Priya   22     ML     90\n",
      "3    Neha   23     AI     88\n",
      "4  Vikram   21     ML     95\n"
     ]
    }
   ],
   "source": [
    "df1=df[df[\"Marks\"]>85]\n",
    "print(df1)"
   ]
  },
  {
   "cell_type": "code",
   "execution_count": 7,
   "id": "eff1eeff-5f83-4c37-8af6-3887c960173e",
   "metadata": {},
   "outputs": [
    {
     "name": "stdout",
     "output_type": "stream",
     "text": [
      "     Name  Age        Course  Marks result\n",
      "0   Rahul   21            AI     85   fail\n",
      "1   Priya   22            ML     90   pass\n",
      "2   Arjun   20  Data Science     78   fail\n",
      "3    Neha   23            AI     88   pass\n",
      "4  Vikram   21            ML     95   pass\n",
      "-----------------------------\n",
      "     Name  Age        Course  Marks result\n",
      "0   Rahul   21            AI     85   fail\n",
      "1   Priya   22            ML     90   pass\n",
      "2   Arjun   20  Data Science     78   fail\n",
      "3    Neha   23            AI     92   pass\n",
      "4  Vikram   21            ML     95   pass\n"
     ]
    }
   ],
   "source": [
    "df[\"result\"]=np.where(df[\"Marks\"]>85,\"pass\",\"fail\")\n",
    "print(df)\n",
    "print(\"-----------------------------\")\n",
    "\n",
    "df.loc[df[\"Name\"]==\"Neha\",\"Marks\"]=92\n",
    "print(df)\n"
   ]
  },
  {
   "cell_type": "code",
   "execution_count": 9,
   "id": "241e39a5-96ec-46d1-9944-017d2847f842",
   "metadata": {},
   "outputs": [],
   "source": [
    "# ! pip install matplotlib\n",
    "\n",
    "# # \n",
    "\n"
   ]
  },
  {
   "cell_type": "code",
   "execution_count": 10,
   "id": "4dd735d3-957f-4a28-a689-210cad7795da",
   "metadata": {},
   "outputs": [],
   "source": [
    "import matplotlib.pyplot as plt "
   ]
  },
  {
   "cell_type": "code",
   "execution_count": 17,
   "id": "b8e0d606-46d2-431c-8697-b5d9f83757a5",
   "metadata": {},
   "outputs": [
    {
     "data": {
      "text/plain": [
       "[]"
      ]
     },
     "execution_count": 17,
     "metadata": {},
     "output_type": "execute_result"
    },
    {
     "data": {
      "image/png": "[encoded data removed]",
      "text/plain": [
       "<Figure size 640x480 with 1 Axes>"
      ]
     },
     "metadata": {},
     "output_type": "display_data"
    }
   ],
   "source": [
    "avgmarks=df.groupby(\"Course\")[\"Marks\"].mean()\n",
    "avgmarks.plot(kind=\"bar\",color=\"lightblue\",edgecolor=\"black\")\n",
    "plt.title(\"avg marks by courses\")\n",
    "plt.ylabel(\"marks\")\n",
    "plt.xlabel(\"course\")\n",
    "plt.xticks(rotation=45)\n",
    "plt.plot()"
   ]
  },
  {
   "cell_type": "code",
   "execution_count": 19,
   "id": "f4552f96-f1e8-45a1-8086-b98ccd7fa345",
   "metadata": {},
   "outputs": [
    {
     "data": {
      "text/html": [
       "<div>\n",
       "<style scoped>\n",
       "    .dataframe tbody tr th:only-of-type {\n",
       "        vertical-align: middle;\n",
       "    }\n",
       "\n",
       "    .dataframe tbody tr th {\n",
       "        vertical-align: top;\n",
       "    }\n",
       "\n",
       "    .dataframe thead th {\n",
       "        text-align: right;\n",
       "    }\n",
       "</style>\n",
       "<table border=\"1\" class=\"dataframe\">\n",
       "  <thead>\n",
       "    <tr style=\"text-align: right;\">\n",
       "      <th></th>\n",
       "      <th>Month</th>\n",
       "      <th>Product</th>\n",
       "      <th>Units_Sold</th>\n",
       "      <th>Revenue</th>\n",
       "    </tr>\n",
       "  </thead>\n",
       "  <tbody>\n",
       "    <tr>\n",
       "      <th>0</th>\n",
       "      <td>Jan</td>\n",
       "      <td>Laptop</td>\n",
       "      <td>120</td>\n",
       "      <td>600000</td>\n",
       "    </tr>\n",
       "    <tr>\n",
       "      <th>1</th>\n",
       "      <td>Feb</td>\n",
       "      <td>Laptop</td>\n",
       "      <td>135</td>\n",
       "      <td>675000</td>\n",
       "    </tr>\n",
       "    <tr>\n",
       "      <th>2</th>\n",
       "      <td>Mar</td>\n",
       "      <td>Laptop</td>\n",
       "      <td>150</td>\n",
       "      <td>750000</td>\n",
       "    </tr>\n",
       "    <tr>\n",
       "      <th>3</th>\n",
       "      <td>Apr</td>\n",
       "      <td>Mobile</td>\n",
       "      <td>200</td>\n",
       "      <td>300000</td>\n",
       "    </tr>\n",
       "    <tr>\n",
       "      <th>4</th>\n",
       "      <td>May</td>\n",
       "      <td>Mobile</td>\n",
       "      <td>220</td>\n",
       "      <td>330000</td>\n",
       "    </tr>\n",
       "    <tr>\n",
       "      <th>5</th>\n",
       "      <td>Jun</td>\n",
       "      <td>Mobile</td>\n",
       "      <td>210</td>\n",
       "      <td>315000</td>\n",
       "    </tr>\n",
       "  </tbody>\n",
       "</table>\n",
       "</div>"
      ],
      "text/plain": [
       "  Month Product  Units_Sold  Revenue\n",
       "0   Jan  Laptop         120   600000\n",
       "1   Feb  Laptop         135   675000\n",
       "2   Mar  Laptop         150   750000\n",
       "3   Apr  Mobile         200   300000\n",
       "4   May  Mobile         220   330000\n",
       "5   Jun  Mobile         210   315000"
      ]
     },
     "execution_count": 19,
     "metadata": {},
     "output_type": "execute_result"
    }
   ],
   "source": [
    "import pandas as pd\n",
    "import matplotlib.pyplot as plt\n",
    " \n",
    "# Sample sales dataset\n",
    "data = {\n",
    "    \"Month\": [\"Jan\", \"Feb\", \"Mar\", \"Apr\", \"May\", \"Jun\"],\n",
    "    \"Product\": [\"Laptop\", \"Laptop\", \"Laptop\", \"Mobile\", \"Mobile\", \"Mobile\"],\n",
    "    \"Units_Sold\": [120, 135, 150, 200, 220, 210],\n",
    "    \"Revenue\": [600000, 675000, 750000, 300000, 330000, 315000]\n",
    "}\n",
    " \n",
    "df1 = pd.DataFrame(data)\n",
    "df1\n",
    "\n",
    "\n",
    "\n"
   ]
  },
  {
   "cell_type": "code",
   "execution_count": 21,
   "id": "42286721-1d22-4e99-9a3e-152192420bb4",
   "metadata": {},
   "outputs": [
    {
     "data": {
      "text/plain": [
       "[]"
      ]
     },
     "execution_count": 21,
     "metadata": {},
     "output_type": "execute_result"
    },
    {
     "data": {
      "image/png": "[encoded data removed]",
      "text/plain": [
       "<Figure size 640x480 with 1 Axes>"
      ]
     },
     "metadata": {},
     "output_type": "display_data"
    }
   ],
   "source": [
    "avgmarks=df.groupby(\"Product\")[\"Revenue\"].sum()\n",
    "avgmarks.plot(kind=\"bar\",color=\"lightblue\",edgecolor=\"black\")\n",
    "plt.title(\"sum of revenue  by product\")\n",
    "plt.ylabel(\"revenue\")\n",
    "plt.xlabel(\"product\")\n",
    "plt.xticks(rotation=45)\n",
    "plt.plot()"
   ]
  },
  {
   "cell_type": "code",
   "execution_count": 25,
   "id": "51e71224-c14f-4264-8a72-1785da8f9ca3",
   "metadata": {},
   "outputs": [
    {
     "data": {
      "text/plain": [
       "[]"
      ]
     },
     "execution_count": 25,
     "metadata": {},
     "output_type": "execute_result"
    },
    {
     "data": {
      "image/png": "[encoded data removed]",
      "text/plain": [
       "<Figure size 640x480 with 1 Axes>"
      ]
     },
     "metadata": {},
     "output_type": "display_data"
    }
   ],
   "source": [
    "plt.bar(df1[\"Product\"],df1[\"Units_Sold\"])\n",
    "plt.title(\"units sold by product\")\n",
    "plt.ylabel(\"units sold\")\n",
    "plt.xlabel(\"product\")\n",
    "plt.plot()"
   ]
  },
  {
   "cell_type": "code",
   "execution_count": null,
   "id": "9349a233-55a2-43ff-a184-d861054f1716",
   "metadata": {},
   "outputs": [],
   "source": []
  }
 ],
 "metadata": {
  "kernelspec": {
   "display_name": "Python 3 (ipykernel)",
   "language": "python",
   "name": "python3"
  },
  "language_info": {
   "codemirror_mode": {
    "name": "ipython",
    "version": 3
   },
   "file_extension": ".py",
   "mimetype": "text/x-python",
   "name": "python",
   "nbconvert_exporter": "python",
   "pygments_lexer": "ipython3",
   "version": "3.13.5"
  }
 },
 "nbformat": 4,
 "nbformat_minor": 5
}
